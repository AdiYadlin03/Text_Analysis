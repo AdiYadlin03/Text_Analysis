{
 "cells": [
  {
   "cell_type": "markdown",
   "metadata": {},
   "source": [
    "# Assignment 5 - Text Analysis\n",
    "An explanation this assignment could be found in the .pdf explanation document"
   ]
  },
  {
   "cell_type": "markdown",
   "metadata": {},
   "source": [
    "\n",
    "## Materials to review for this assignment\n",
    "<h4>From Moodle:</h4> \n",
    "<h5><u>Review the notebooks regarding the following python topics</u>:</h5>\n",
    "<div class=\"alert alert-info\">\n",
    "&#x2714; <b>Working with strings</b> (tutorial notebook)<br/>\n",
    "&#x2714; <b>Text Analysis</b> (tutorial notebook)<br/>\n",
    "&#x2714; <b>Hebrew text analysis tools (tokenizer, wordnet)</b> (moodle example)<br/>\n",
    "&#x2714; <b>(brief review) All previous notebooks</b><br/>\n",
    "</div> \n",
    "<h5><u>Review the presentations regarding the following topics</u>:</h5>\n",
    "<div class=\"alert alert-info\">\n",
    "&#x2714; <b>Text Analysis</b> (lecture presentation)<br/>\n",
    "&#x2714; <b>(brief review) All other presentations</b><br/>\n",
    "</div>"
   ]
  },
  {
   "cell_type": "markdown",
   "metadata": {},
   "source": [
    "## Preceding Step - import modules (packages)\n",
    "This step is necessary in order to use external modules (packages). <br/>"
   ]
  },
  {
   "cell_type": "code",
   "execution_count": 1,
   "metadata": {},
   "outputs": [],
   "source": [
    "# --------------------------------------\n",
    "import pandas as pd\n",
    "import numpy as np\n",
    "# --------------------------------------\n",
    "\n",
    "\n",
    "# --------------------------------------\n",
    "# ------------- visualizations:\n",
    "import seaborn as sns\n",
    "import matplotlib.pyplot as plt\n",
    "from matplotlib.colors import ListedColormap\n",
    "# --------------------------------------\n",
    "\n",
    "\n",
    "# ---------------------------------------\n",
    "import sklearn\n",
    "from sklearn import preprocessing, metrics, pipeline, model_selection, feature_extraction \n",
    "from sklearn import naive_bayes, linear_model, svm, neural_network, neighbors, tree\n",
    "from sklearn import decomposition, cluster\n",
    "\n",
    "from sklearn.model_selection import train_test_split, cross_val_score, GridSearchCV \n",
    "from sklearn.pipeline import Pipeline\n",
    "from sklearn.metrics import accuracy_score, confusion_matrix\n",
    "from sklearn.metrics import precision_score, recall_score, f1_score\n",
    "from sklearn.metrics import mean_squared_error, r2_score, silhouette_score\n",
    "from sklearn.preprocessing import MinMaxScaler, StandardScaler, LabelEncoder\n",
    "\n",
    "\n",
    "from sklearn.svm import LinearSVC\n",
    "from sklearn.neural_network import MLPClassifier\n",
    "from sklearn.linear_model import Perceptron, SGDClassifier\n",
    "from sklearn.decomposition import PCA\n",
    "from sklearn.cluster import KMeans\n",
    "from sklearn.naive_bayes import MultinomialNB, GaussianNB\n",
    "from sklearn.neighbors import KNeighborsClassifier\n",
    "from sklearn.tree import DecisionTreeClassifier\n",
    "\n",
    "# added:\n",
    "from sklearn.svm import SVC\n",
    "from sklearn.linear_model import LogisticRegression\n",
    "from sklearn.ensemble import RandomForestClassifier\n",
    "from sklearn.metrics import classification_report, make_scorer\n",
    "# ---------------------------------------\n",
    "\n",
    "\n",
    "# ----------------- output and visualizations: \n",
    "import warnings\n",
    "from sklearn.exceptions import ConvergenceWarning\n",
    "warnings.simplefilter(\"ignore\")\n",
    "warnings.simplefilter(action='ignore', category=FutureWarning)\n",
    "warnings.simplefilter(\"ignore\", category=ConvergenceWarning)\n",
    "# show several prints in one cell. This will allow us to condence every trick in one cell.\n",
    "from IPython.core.interactiveshell import InteractiveShell\n",
    "InteractiveShell.ast_node_interactivity = \"all\"\n",
    "%matplotlib inline\n",
    "pd.pandas.set_option('display.max_columns', None)\n",
    "pd.set_option('display.float_format', lambda x: '%.3f' % x)\n",
    "# ---------------------------------------"
   ]
  },
  {
   "cell_type": "markdown",
   "metadata": {},
   "source": [
    "### Text analysis and String manipulation imports:"
   ]
  },
  {
   "cell_type": "code",
   "execution_count": 2,
   "metadata": {},
   "outputs": [],
   "source": [
    "# --------------------------------------\n",
    "# --------- Text analysis and Hebrew text analysis imports:\n",
    "# vectorizers:\n",
    "from sklearn.feature_extraction import text\n",
    "from sklearn.feature_extraction.text import CountVectorizer, TfidfVectorizer\n",
    "\n",
    "# regular expressions:\n",
    "import re\n",
    "# --------------------------------------"
   ]
  },
  {
   "cell_type": "markdown",
   "metadata": {},
   "source": [
    "### (optional) Hebrew text analysis - WordNet (for Hebrew)\n",
    "Note: the WordNet is not a must"
   ]
  },
  {
   "cell_type": "markdown",
   "metadata": {},
   "source": [
    "#### (optional) Only if you didn't install Wordnet (for Hebrew) use:"
   ]
  },
  {
   "cell_type": "code",
   "execution_count": 3,
   "metadata": {},
   "outputs": [],
   "source": [
    "# word net installation:\n",
    "\n",
    "# unmark if you want to use and need to install\n",
    "# !pip install wn\n",
    "# !python -m wn download omw-he:1.4"
   ]
  },
  {
   "cell_type": "code",
   "execution_count": 4,
   "metadata": {},
   "outputs": [],
   "source": [
    "# word net import:\n",
    "\n",
    "# unmark if you want to use:\n",
    "# import wn"
   ]
  },
  {
   "cell_type": "markdown",
   "metadata": {},
   "source": [
    "### (optional) Hebrew text analysis - hebrew_tokenizer (Tokenizer for Hebrew)\n",
    "Note: the hebrew_tokenizer is not a must"
   ]
  },
  {
   "cell_type": "markdown",
   "metadata": {},
   "source": [
    "#### (optional) Only if you didn't install hebrew_tokenizer use:"
   ]
  },
  {
   "cell_type": "code",
   "execution_count": 5,
   "metadata": {},
   "outputs": [],
   "source": [
    "# Hebrew tokenizer installation:\n",
    "\n",
    "# unmark if you want to use and need to install:\n",
    "# !pip install hebrew_tokenizer"
   ]
  },
  {
   "cell_type": "code",
   "execution_count": 6,
   "metadata": {},
   "outputs": [],
   "source": [
    "# Hebrew tokenizer import:\n",
    "\n",
    "# unmark if you want to use:\n",
    "# import hebrew_tokenizer as ht"
   ]
  },
  {
   "cell_type": "markdown",
   "metadata": {},
   "source": [
    "### Reading input files\n",
    "Reading input files for train annotated corpus (raw text data) corpus and for the test corpus"
   ]
  },
  {
   "cell_type": "code",
   "execution_count": 7,
   "metadata": {},
   "outputs": [],
   "source": [
    "train_filename = 'annotated_corpus_for_train.csv'\n",
    "test_filename  = 'corpus_for_test.csv'\n",
    "df_train = pd.read_csv(train_filename, index_col=None, encoding='utf-8')\n",
    "df_test = pd.read_csv(test_filename, index_col=None, encoding='utf-8')"
   ]
  },
  {
   "cell_type": "code",
   "execution_count": 8,
   "metadata": {},
   "outputs": [
    {
     "data": {
      "text/html": [
       "<div>\n",
       "<style scoped>\n",
       "    .dataframe tbody tr th:only-of-type {\n",
       "        vertical-align: middle;\n",
       "    }\n",
       "\n",
       "    .dataframe tbody tr th {\n",
       "        vertical-align: top;\n",
       "    }\n",
       "\n",
       "    .dataframe thead th {\n",
       "        text-align: right;\n",
       "    }\n",
       "</style>\n",
       "<table border=\"1\" class=\"dataframe\">\n",
       "  <thead>\n",
       "    <tr style=\"text-align: right;\">\n",
       "      <th></th>\n",
       "      <th>story</th>\n",
       "      <th>gender</th>\n",
       "    </tr>\n",
       "  </thead>\n",
       "  <tbody>\n",
       "    <tr>\n",
       "      <th>0</th>\n",
       "      <td>כשחבר הזמין אותי לחול, לא באמת חשבתי שזה יקרה,...</td>\n",
       "      <td>m</td>\n",
       "    </tr>\n",
       "    <tr>\n",
       "      <th>1</th>\n",
       "      <td>לפני שהתגייסתי לצבא עשיתי כל מני מיונים ליחידו...</td>\n",
       "      <td>m</td>\n",
       "    </tr>\n",
       "    <tr>\n",
       "      <th>2</th>\n",
       "      <td>מאז שהתחילו הלימודים חלומו של כל סטודנט זה הפנ...</td>\n",
       "      <td>f</td>\n",
       "    </tr>\n",
       "    <tr>\n",
       "      <th>3</th>\n",
       "      <td>כשהייתי ילד, מטוסים היה הדבר שהכי ריתק אותי. ב...</td>\n",
       "      <td>m</td>\n",
       "    </tr>\n",
       "    <tr>\n",
       "      <th>4</th>\n",
       "      <td>‏הייתי מדריכה בכפר נוער ומתאם הכפר היינו צריכי...</td>\n",
       "      <td>f</td>\n",
       "    </tr>\n",
       "    <tr>\n",
       "      <th>5</th>\n",
       "      <td>לפני כ3 חודשים טסתי לרומא למשך שבוע. טסתי במטו...</td>\n",
       "      <td>f</td>\n",
       "    </tr>\n",
       "    <tr>\n",
       "      <th>6</th>\n",
       "      <td>אני כבר שנתיים נשוי והשנה אני ואישתי סוף סוף י...</td>\n",
       "      <td>m</td>\n",
       "    </tr>\n",
       "    <tr>\n",
       "      <th>7</th>\n",
       "      <td>השנה התחלנו שיפוץ בדירה שלנו בתל אביב. הדירה ה...</td>\n",
       "      <td>f</td>\n",
       "    </tr>\n",
       "  </tbody>\n",
       "</table>\n",
       "</div>"
      ],
      "text/plain": [
       "                                               story gender\n",
       "0  כשחבר הזמין אותי לחול, לא באמת חשבתי שזה יקרה,...      m\n",
       "1  לפני שהתגייסתי לצבא עשיתי כל מני מיונים ליחידו...      m\n",
       "2  מאז שהתחילו הלימודים חלומו של כל סטודנט זה הפנ...      f\n",
       "3  כשהייתי ילד, מטוסים היה הדבר שהכי ריתק אותי. ב...      m\n",
       "4  ‏הייתי מדריכה בכפר נוער ומתאם הכפר היינו צריכי...      f\n",
       "5  לפני כ3 חודשים טסתי לרומא למשך שבוע. טסתי במטו...      f\n",
       "6  אני כבר שנתיים נשוי והשנה אני ואישתי סוף סוף י...      m\n",
       "7  השנה התחלנו שיפוץ בדירה שלנו בתל אביב. הדירה ה...      f"
      ]
     },
     "execution_count": 8,
     "metadata": {},
     "output_type": "execute_result"
    },
    {
     "data": {
      "text/plain": [
       "(753, 2)"
      ]
     },
     "execution_count": 8,
     "metadata": {},
     "output_type": "execute_result"
    }
   ],
   "source": [
    "df_train.head(8)\n",
    "df_train.shape"
   ]
  },
  {
   "cell_type": "code",
   "execution_count": 9,
   "metadata": {},
   "outputs": [
    {
     "data": {
      "text/html": [
       "<div>\n",
       "<style scoped>\n",
       "    .dataframe tbody tr th:only-of-type {\n",
       "        vertical-align: middle;\n",
       "    }\n",
       "\n",
       "    .dataframe tbody tr th {\n",
       "        vertical-align: top;\n",
       "    }\n",
       "\n",
       "    .dataframe thead th {\n",
       "        text-align: right;\n",
       "    }\n",
       "</style>\n",
       "<table border=\"1\" class=\"dataframe\">\n",
       "  <thead>\n",
       "    <tr style=\"text-align: right;\">\n",
       "      <th></th>\n",
       "      <th>test_example_id</th>\n",
       "      <th>story</th>\n",
       "    </tr>\n",
       "  </thead>\n",
       "  <tbody>\n",
       "    <tr>\n",
       "      <th>0</th>\n",
       "      <td>0</td>\n",
       "      <td>כל קיץ אני והמשפחה נוסעים לארצות הברית לוס אנג...</td>\n",
       "    </tr>\n",
       "    <tr>\n",
       "      <th>1</th>\n",
       "      <td>1</td>\n",
       "      <td>הגעתי לשירות המדינה אחרי שנתיים כפעיל בתנועת \"...</td>\n",
       "    </tr>\n",
       "    <tr>\n",
       "      <th>2</th>\n",
       "      <td>2</td>\n",
       "      <td>אחת האהבות הגדולות שלי אלו הכלבים שלי ושל אישת...</td>\n",
       "    </tr>\n",
       "  </tbody>\n",
       "</table>\n",
       "</div>"
      ],
      "text/plain": [
       "   test_example_id                                              story\n",
       "0                0  כל קיץ אני והמשפחה נוסעים לארצות הברית לוס אנג...\n",
       "1                1  הגעתי לשירות המדינה אחרי שנתיים כפעיל בתנועת \"...\n",
       "2                2  אחת האהבות הגדולות שלי אלו הכלבים שלי ושל אישת..."
      ]
     },
     "execution_count": 9,
     "metadata": {},
     "output_type": "execute_result"
    },
    {
     "data": {
      "text/plain": [
       "(323, 2)"
      ]
     },
     "execution_count": 9,
     "metadata": {},
     "output_type": "execute_result"
    }
   ],
   "source": [
    "df_test.head(3)\n",
    "df_test.shape"
   ]
  },
  {
   "cell_type": "markdown",
   "metadata": {},
   "source": [
    "### Your implementation:\n",
    "Write your code solution in the following code-cells"
   ]
  },
  {
   "cell_type": "markdown",
   "metadata": {},
   "source": [
    "This function takes the text and removes numbers, leading and trailing spaces and replaces multiple whitespaces with a single space."
   ]
  },
  {
   "cell_type": "code",
   "execution_count": 10,
   "metadata": {},
   "outputs": [],
   "source": [
    "def handle_text(text):\n",
    "    text = re.sub(r'\\d', '', text)\n",
    "    text = text.strip()\n",
    "    text = re.sub(r'\\s+', ' ', text)\n",
    "    return text"
   ]
  },
  {
   "cell_type": "markdown",
   "metadata": {},
   "source": [
    "The gender column needs to become numeric in order to process it with a ML model, so I added a new column named 'gender_num'.\n",
    "Also used the function handle text for preproccesing."
   ]
  },
  {
   "cell_type": "code",
   "execution_count": 14,
   "metadata": {},
   "outputs": [],
   "source": [
    "# Add as many code cells as you need\n",
    "# YOUR CODE HERE\n",
    "\n",
    "def handle_train(df):\n",
    "    # preprocess the text\n",
    "    df['story'] = df ['story'].apply(handle_text)\n",
    "    \n",
    "    # fit and transform the gender column to numeric values\n",
    "    le = LabelEncoder()\n",
    "    df['gender_num'] = le.fit_transform(df['gender'])\n",
    "    \n",
    "    # got X_train and y_train\n",
    "    X_train = df.story\n",
    "    y_train = df.gender_num\n",
    "    \n",
    "    return X_train, y_train\n",
    "    "
   ]
  },
  {
   "cell_type": "code",
   "execution_count": 42,
   "metadata": {},
   "outputs": [],
   "source": [
    "models_list = {\n",
    "    'knn': KNeighborsClassifier(),\n",
    "    'randomForest': RandomForestClassifier(),\n",
    "    'decisionTree': DecisionTreeClassifier(),\n",
    "    'svm': SVC(),\n",
    "    'linearSVC':LinearSVC(),\n",
    "    'neuralNetwork':MLPClassifier(),\n",
    "    'perceptron':Perceptron(),\n",
    "    'sgd':SGDClassifier()\n",
    "}\n",
    "\n",
    "params_list = {\n",
    "    'knn': {'n_neighbors': [3, 5, 7], 'weights': ['uniform', 'distance']},\n",
    "    'randomForest': {'n_estimators': [100, 200, 300], 'max_depth': [None, 5, 10], 'min_samples_split': [2, 5, 10], 'min_samples_leaf': [1, 2, 4]},\n",
    "    'decisionTree': {'max_depth': [None, 5, 10], 'min_samples_split': [2, 5, 10], 'min_samples_leaf': [1, 2, 4]},\n",
    "    'svm': {'C': [0.1, 1, 10], 'kernel': ['linear', 'rbf']},\n",
    "    'linearSVC': {'C': [0.1, 1, 10]},\n",
    "    'neuralNetwork': {'hidden_layer_sizes': [(100,), (50, 50), (100, 50, 25)], 'activation': ['relu', 'logistic'], 'solver': ['adam', 'sgd']},\n",
    "    'perceptron': {'alpha': [0.1, 0.01, 0.001, 0.005]},\n",
    "    'sgd': {'alpha': [0.1, 0.01, 0.001, 0.005]}\n",
    "}"
   ]
  },
  {
   "cell_type": "markdown",
   "metadata": {},
   "source": [
    "Do a grid search that checks the best parameters, vectorizer and normalization."
   ]
  },
  {
   "cell_type": "code",
   "execution_count": 43,
   "metadata": {},
   "outputs": [],
   "source": [
    "def perform_grid_search(models_list, params_list, X, y):\n",
    "    # Define the scoring metric\n",
    "    scoring = make_scorer(f1_score, average='macro')\n",
    "\n",
    "    for model_name, model in models_list.items():\n",
    "        params = params_list[model_name]\n",
    "\n",
    "        # Define the vectorizers to try\n",
    "        vectorizers = [\n",
    "            ('tfidf', TfidfVectorizer()),\n",
    "            ('count', CountVectorizer())\n",
    "        ]\n",
    "\n",
    "        # Define the normalization options\n",
    "        norms = ['l2']\n",
    "\n",
    "        # Perform grid search with different vectorizers and normalization options\n",
    "        for vec_name, vectorizer in vectorizers:\n",
    "            for norm in norms:\n",
    "                # Create the feature vectors with the vectorizer\n",
    "                X_features = vectorizer.fit_transform(X)\n",
    "                \"\"\"\n",
    "                if norm == 'l1':\n",
    "                    X_features = StandardScaler(with_mean=False).fit_transform(X_features)\n",
    "                elif norm == 'l2':\n",
    "                \"\"\"\n",
    "                # Apply normalization to the feature vectors\n",
    "                X_features = StandardScaler(with_mean=False, with_std=False).fit_transform(X_features)\n",
    "                # Create the grid search object\n",
    "                grid_search = GridSearchCV(model, params, cv=10, scoring=scoring)\n",
    "                # Fit the grid search to the data\n",
    "                grid_search.fit(X_features, y)\n",
    "                \n",
    "                # Print the best parameters and score\n",
    "                print(f\"Model: {model_name}, Vectorizer: {vec_name}, Normalization: {norm}\")\n",
    "                print(\"Best Parameters:\", grid_search.best_params_)\n",
    "                print(\"Best F1-macro Score:\", grid_search.best_score_)\n",
    "                # Evaluate the model on the train data\n",
    "                y_pred = grid_search.predict(X_features)\n",
    "                print(\"Classification Report:\")\n",
    "                print(classification_report(y, y_pred))\n",
    "                print(\"-------------------------------------------\")"
   ]
  },
  {
   "cell_type": "markdown",
   "metadata": {},
   "source": [
    "Do preprocessing on the data and start grid search:"
   ]
  },
  {
   "cell_type": "code",
   "execution_count": 44,
   "metadata": {},
   "outputs": [
    {
     "name": "stdout",
     "output_type": "stream",
     "text": [
      "Model: knn, Vectorizer: tfidf, Normalization: l2\n",
      "Best Parameters: {'n_neighbors': 5, 'weights': 'distance'}\n",
      "Best F1-macro Score: 0.6157000979582263\n",
      "Classification Report:\n",
      "              precision    recall  f1-score   support\n",
      "\n",
      "           0       0.99      1.00      1.00       178\n",
      "           1       1.00      1.00      1.00       575\n",
      "\n",
      "    accuracy                           1.00       753\n",
      "   macro avg       1.00      1.00      1.00       753\n",
      "weighted avg       1.00      1.00      1.00       753\n",
      "\n",
      "-------------------------------------------\n",
      "Model: knn, Vectorizer: count, Normalization: l2\n",
      "Best Parameters: {'n_neighbors': 3, 'weights': 'distance'}\n",
      "Best F1-macro Score: 0.5459598199373232\n",
      "Classification Report:\n",
      "              precision    recall  f1-score   support\n",
      "\n",
      "           0       0.99      1.00      1.00       178\n",
      "           1       1.00      1.00      1.00       575\n",
      "\n",
      "    accuracy                           1.00       753\n",
      "   macro avg       1.00      1.00      1.00       753\n",
      "weighted avg       1.00      1.00      1.00       753\n",
      "\n",
      "-------------------------------------------\n",
      "Model: randomForest, Vectorizer: tfidf, Normalization: l2\n",
      "Best Parameters: {'max_depth': None, 'min_samples_leaf': 1, 'min_samples_split': 2, 'n_estimators': 100}\n",
      "Best F1-macro Score: 0.4812310660595352\n",
      "Classification Report:\n",
      "              precision    recall  f1-score   support\n",
      "\n",
      "           0       1.00      0.99      1.00       178\n",
      "           1       1.00      1.00      1.00       575\n",
      "\n",
      "    accuracy                           1.00       753\n",
      "   macro avg       1.00      1.00      1.00       753\n",
      "weighted avg       1.00      1.00      1.00       753\n",
      "\n",
      "-------------------------------------------\n",
      "Model: randomForest, Vectorizer: count, Normalization: l2\n",
      "Best Parameters: {'max_depth': None, 'min_samples_leaf': 2, 'min_samples_split': 2, 'n_estimators': 200}\n",
      "Best F1-macro Score: 0.4664078426738609\n",
      "Classification Report:\n",
      "              precision    recall  f1-score   support\n",
      "\n",
      "           0       1.00      0.79      0.88       178\n",
      "           1       0.94      1.00      0.97       575\n",
      "\n",
      "    accuracy                           0.95       753\n",
      "   macro avg       0.97      0.90      0.93       753\n",
      "weighted avg       0.95      0.95      0.95       753\n",
      "\n",
      "-------------------------------------------\n",
      "Model: decisionTree, Vectorizer: tfidf, Normalization: l2\n",
      "Best Parameters: {'max_depth': None, 'min_samples_leaf': 2, 'min_samples_split': 5}\n",
      "Best F1-macro Score: 0.6029986821229767\n",
      "Classification Report:\n",
      "              precision    recall  f1-score   support\n",
      "\n",
      "           0       0.90      1.00      0.95       178\n",
      "           1       1.00      0.97      0.98       575\n",
      "\n",
      "    accuracy                           0.97       753\n",
      "   macro avg       0.95      0.98      0.96       753\n",
      "weighted avg       0.98      0.97      0.97       753\n",
      "\n",
      "-------------------------------------------\n",
      "Model: decisionTree, Vectorizer: count, Normalization: l2\n",
      "Best Parameters: {'max_depth': None, 'min_samples_leaf': 4, 'min_samples_split': 2}\n",
      "Best F1-macro Score: 0.6116851195564478\n",
      "Classification Report:\n",
      "              precision    recall  f1-score   support\n",
      "\n",
      "           0       0.83      0.92      0.87       178\n",
      "           1       0.97      0.94      0.96       575\n",
      "\n",
      "    accuracy                           0.94       753\n",
      "   macro avg       0.90      0.93      0.91       753\n",
      "weighted avg       0.94      0.94      0.94       753\n",
      "\n",
      "-------------------------------------------\n",
      "Model: svm, Vectorizer: tfidf, Normalization: l2\n",
      "Best Parameters: {'C': 10, 'kernel': 'linear'}\n",
      "Best F1-macro Score: 0.6164621626859728\n",
      "Classification Report:\n",
      "              precision    recall  f1-score   support\n",
      "\n",
      "           0       1.00      0.99      1.00       178\n",
      "           1       1.00      1.00      1.00       575\n",
      "\n",
      "    accuracy                           1.00       753\n",
      "   macro avg       1.00      1.00      1.00       753\n",
      "weighted avg       1.00      1.00      1.00       753\n",
      "\n",
      "-------------------------------------------\n",
      "Model: svm, Vectorizer: count, Normalization: l2\n",
      "Best Parameters: {'C': 0.1, 'kernel': 'linear'}\n",
      "Best F1-macro Score: 0.6698926318572896\n",
      "Classification Report:\n",
      "              precision    recall  f1-score   support\n",
      "\n",
      "           0       1.00      0.99      1.00       178\n",
      "           1       1.00      1.00      1.00       575\n",
      "\n",
      "    accuracy                           1.00       753\n",
      "   macro avg       1.00      1.00      1.00       753\n",
      "weighted avg       1.00      1.00      1.00       753\n",
      "\n",
      "-------------------------------------------\n",
      "Model: linearSVC, Vectorizer: tfidf, Normalization: l2\n",
      "Best Parameters: {'C': 10}\n",
      "Best F1-macro Score: 0.6101837539840962\n",
      "Classification Report:\n",
      "              precision    recall  f1-score   support\n",
      "\n",
      "           0       1.00      0.99      1.00       178\n",
      "           1       1.00      1.00      1.00       575\n",
      "\n",
      "    accuracy                           1.00       753\n",
      "   macro avg       1.00      1.00      1.00       753\n",
      "weighted avg       1.00      1.00      1.00       753\n",
      "\n",
      "-------------------------------------------\n",
      "Model: linearSVC, Vectorizer: count, Normalization: l2\n",
      "Best Parameters: {'C': 1}\n",
      "Best F1-macro Score: 0.6732672011511557\n",
      "Classification Report:\n",
      "              precision    recall  f1-score   support\n",
      "\n",
      "           0       0.99      1.00      1.00       178\n",
      "           1       1.00      1.00      1.00       575\n",
      "\n",
      "    accuracy                           1.00       753\n",
      "   macro avg       1.00      1.00      1.00       753\n",
      "weighted avg       1.00      1.00      1.00       753\n",
      "\n",
      "-------------------------------------------\n",
      "Model: neuralNetwork, Vectorizer: tfidf, Normalization: l2\n",
      "Best Parameters: {'activation': 'logistic', 'hidden_layer_sizes': (100, 50, 25), 'solver': 'adam'}\n",
      "Best F1-macro Score: 0.5869665896294751\n",
      "Classification Report:\n",
      "              precision    recall  f1-score   support\n",
      "\n",
      "           0       1.00      0.99      1.00       178\n",
      "           1       1.00      1.00      1.00       575\n",
      "\n",
      "    accuracy                           1.00       753\n",
      "   macro avg       1.00      1.00      1.00       753\n",
      "weighted avg       1.00      1.00      1.00       753\n",
      "\n",
      "-------------------------------------------\n",
      "Model: neuralNetwork, Vectorizer: count, Normalization: l2\n",
      "Best Parameters: {'activation': 'logistic', 'hidden_layer_sizes': (100, 50, 25), 'solver': 'adam'}\n",
      "Best F1-macro Score: 0.6869767969954803\n",
      "Classification Report:\n",
      "              precision    recall  f1-score   support\n",
      "\n",
      "           0       0.99      1.00      1.00       178\n",
      "           1       1.00      1.00      1.00       575\n",
      "\n",
      "    accuracy                           1.00       753\n",
      "   macro avg       1.00      1.00      1.00       753\n",
      "weighted avg       1.00      1.00      1.00       753\n",
      "\n",
      "-------------------------------------------\n",
      "Model: perceptron, Vectorizer: tfidf, Normalization: l2\n",
      "Best Parameters: {'alpha': 0.1}\n",
      "Best F1-macro Score: 0.6780180835063295\n",
      "Classification Report:\n",
      "              precision    recall  f1-score   support\n",
      "\n",
      "           0       0.99      1.00      1.00       178\n",
      "           1       1.00      1.00      1.00       575\n",
      "\n",
      "    accuracy                           1.00       753\n",
      "   macro avg       1.00      1.00      1.00       753\n",
      "weighted avg       1.00      1.00      1.00       753\n",
      "\n",
      "-------------------------------------------\n",
      "Model: perceptron, Vectorizer: count, Normalization: l2\n",
      "Best Parameters: {'alpha': 0.1}\n",
      "Best F1-macro Score: 0.6528087366923458\n",
      "Classification Report:\n",
      "              precision    recall  f1-score   support\n",
      "\n",
      "           0       0.99      0.99      0.99       178\n",
      "           1       1.00      1.00      1.00       575\n",
      "\n",
      "    accuracy                           1.00       753\n",
      "   macro avg       1.00      0.99      0.99       753\n",
      "weighted avg       1.00      1.00      1.00       753\n",
      "\n",
      "-------------------------------------------\n",
      "Model: sgd, Vectorizer: tfidf, Normalization: l2\n",
      "Best Parameters: {'alpha': 0.001}\n",
      "Best F1-macro Score: 0.5833197140103603\n",
      "Classification Report:\n",
      "              precision    recall  f1-score   support\n",
      "\n",
      "           0       1.00      0.98      0.99       178\n",
      "           1       0.99      1.00      1.00       575\n",
      "\n",
      "    accuracy                           1.00       753\n",
      "   macro avg       1.00      0.99      0.99       753\n",
      "weighted avg       1.00      1.00      1.00       753\n",
      "\n",
      "-------------------------------------------\n"
     ]
    },
    {
     "name": "stdout",
     "output_type": "stream",
     "text": [
      "Model: sgd, Vectorizer: count, Normalization: l2\n",
      "Best Parameters: {'alpha': 0.1}\n",
      "Best F1-macro Score: 0.6672557288404194\n",
      "Classification Report:\n",
      "              precision    recall  f1-score   support\n",
      "\n",
      "           0       0.99      0.99      0.99       178\n",
      "           1       1.00      1.00      1.00       575\n",
      "\n",
      "    accuracy                           1.00       753\n",
      "   macro avg       1.00      1.00      1.00       753\n",
      "weighted avg       1.00      1.00      1.00       753\n",
      "\n",
      "-------------------------------------------\n"
     ]
    }
   ],
   "source": [
    "X_train, y_train = handle_train(df_train)\n",
    "perform_grid_search(models_list, params_list, X_train, y_train)"
   ]
  },
  {
   "cell_type": "markdown",
   "metadata": {},
   "source": [
    "Now we can continue with the model that gave us the best results- the Artificial Neural Network. We will add parameters to the CountVectorizer:"
   ]
  },
  {
   "cell_type": "code",
   "execution_count": 70,
   "metadata": {},
   "outputs": [],
   "source": [
    "model = MLPClassifier(activation='logistic', hidden_layer_sizes=(100, 50, 25), solver='adam')\n",
    "countVec = CountVectorizer(ngram_range=(1,3), max_features=10000, min_df=10)\n",
    "X_features = countVec.fit_transform(X_train)\n",
    "scaler = StandardScaler(with_mean=False, with_std=False)\n",
    "X_features = scaler.fit_transform(X_features)\n",
    "clf = model.fit(X_features, y_train)"
   ]
  },
  {
   "cell_type": "code",
   "execution_count": 71,
   "metadata": {},
   "outputs": [
    {
     "name": "stdout",
     "output_type": "stream",
     "text": [
      "Mean f1_macro score: 0.7018118504491392\n"
     ]
    }
   ],
   "source": [
    "predicted_train = clf.predict(X_features)\n",
    "cv_scores = cross_val_score(clf, X_features, y_train, scoring=\"f1_macro\", cv=10)\n",
    "mean_f1 = cv_scores.mean()\n",
    "print(\"Mean f1_macro score:\",mean_f1)"
   ]
  },
  {
   "cell_type": "markdown",
   "metadata": {},
   "source": [
    "We got an even better result with adding some parameters to the CountVectorizer and the f1_macro score is now 0.7 ."
   ]
  },
  {
   "cell_type": "markdown",
   "metadata": {},
   "source": [
    "Here is the confusion matrix:"
   ]
  },
  {
   "cell_type": "code",
   "execution_count": 93,
   "metadata": {},
   "outputs": [
    {
     "data": {
      "text/html": [
       "<div>\n",
       "<style scoped>\n",
       "    .dataframe tbody tr th:only-of-type {\n",
       "        vertical-align: middle;\n",
       "    }\n",
       "\n",
       "    .dataframe tbody tr th {\n",
       "        vertical-align: top;\n",
       "    }\n",
       "\n",
       "    .dataframe thead th {\n",
       "        text-align: right;\n",
       "    }\n",
       "</style>\n",
       "<table border=\"1\" class=\"dataframe\">\n",
       "  <thead>\n",
       "    <tr style=\"text-align: right;\">\n",
       "      <th></th>\n",
       "      <th>Female</th>\n",
       "      <th>Male</th>\n",
       "    </tr>\n",
       "  </thead>\n",
       "  <tbody>\n",
       "    <tr>\n",
       "      <th>Female</th>\n",
       "      <td>177</td>\n",
       "      <td>1</td>\n",
       "    </tr>\n",
       "    <tr>\n",
       "      <th>Male</th>\n",
       "      <td>0</td>\n",
       "      <td>575</td>\n",
       "    </tr>\n",
       "  </tbody>\n",
       "</table>\n",
       "</div>"
      ],
      "text/plain": [
       "        Female  Male\n",
       "Female     177     1\n",
       "Male         0   575"
      ]
     },
     "execution_count": 93,
     "metadata": {},
     "output_type": "execute_result"
    }
   ],
   "source": [
    "pd.DataFrame(confusion_matrix(y_pred = predicted_train, y_true = y_train), index = ['Female', 'Male'], columns = ['Female', 'Male'])"
   ]
  },
  {
   "cell_type": "markdown",
   "metadata": {},
   "source": [
    "Now we can handle the test data:"
   ]
  },
  {
   "cell_type": "code",
   "execution_count": 94,
   "metadata": {},
   "outputs": [],
   "source": [
    "df_test['story'] = df_test['story'].apply(handle_text)\n",
    "\n",
    "X_test = df_test.story\n",
    "\n",
    "# Preprocess the test set using the same vectorizer and scaler\n",
    "X_test_features = vec.transform(X_test)\n",
    "X_test_features_scaled = scaler.transform(X_test_features)\n",
    "\n",
    "# Predict labels for the test set\n",
    "predicted_test = clf.predict(X_test_features_scaled)\n"
   ]
  },
  {
   "cell_type": "markdown",
   "metadata": {},
   "source": [
    "Change the predicted categories to 'm' and 'f', then create the dataframe with the results."
   ]
  },
  {
   "cell_type": "code",
   "execution_count": 95,
   "metadata": {},
   "outputs": [
    {
     "data": {
      "text/html": [
       "<div>\n",
       "<style scoped>\n",
       "    .dataframe tbody tr th:only-of-type {\n",
       "        vertical-align: middle;\n",
       "    }\n",
       "\n",
       "    .dataframe tbody tr th {\n",
       "        vertical-align: top;\n",
       "    }\n",
       "\n",
       "    .dataframe thead th {\n",
       "        text-align: right;\n",
       "    }\n",
       "</style>\n",
       "<table border=\"1\" class=\"dataframe\">\n",
       "  <thead>\n",
       "    <tr style=\"text-align: right;\">\n",
       "      <th></th>\n",
       "      <th>test_example_id</th>\n",
       "      <th>predicted_category</th>\n",
       "    </tr>\n",
       "  </thead>\n",
       "  <tbody>\n",
       "    <tr>\n",
       "      <th>0</th>\n",
       "      <td>0</td>\n",
       "      <td>m</td>\n",
       "    </tr>\n",
       "    <tr>\n",
       "      <th>1</th>\n",
       "      <td>1</td>\n",
       "      <td>m</td>\n",
       "    </tr>\n",
       "    <tr>\n",
       "      <th>2</th>\n",
       "      <td>2</td>\n",
       "      <td>m</td>\n",
       "    </tr>\n",
       "    <tr>\n",
       "      <th>3</th>\n",
       "      <td>3</td>\n",
       "      <td>m</td>\n",
       "    </tr>\n",
       "    <tr>\n",
       "      <th>4</th>\n",
       "      <td>4</td>\n",
       "      <td>f</td>\n",
       "    </tr>\n",
       "  </tbody>\n",
       "</table>\n",
       "</div>"
      ],
      "text/plain": [
       "   test_example_id predicted_category\n",
       "0                0                  m\n",
       "1                1                  m\n",
       "2                2                  m\n",
       "3                3                  m\n",
       "4                4                  f"
      ]
     },
     "execution_count": 95,
     "metadata": {},
     "output_type": "execute_result"
    }
   ],
   "source": [
    "predicted_categories = ['m' if pred == 1 else 'f' for pred in predicted_test]\n",
    "\n",
    "# Create a DataFrame with the test example IDs and predicted categories\n",
    "df_predicted = pd.DataFrame({'test_example_id': df_test['test_example_id'],\n",
    "                               'predicted_category': predicted_categories})\n",
    "df_predicted.head(5)"
   ]
  },
  {
   "cell_type": "code",
   "execution_count": 99,
   "metadata": {},
   "outputs": [
    {
     "data": {
      "text/html": [
       "<div>\n",
       "<style scoped>\n",
       "    .dataframe tbody tr th:only-of-type {\n",
       "        vertical-align: middle;\n",
       "    }\n",
       "\n",
       "    .dataframe tbody tr th {\n",
       "        vertical-align: top;\n",
       "    }\n",
       "\n",
       "    .dataframe thead th {\n",
       "        text-align: right;\n",
       "    }\n",
       "</style>\n",
       "<table border=\"1\" class=\"dataframe\">\n",
       "  <thead>\n",
       "    <tr style=\"text-align: right;\">\n",
       "      <th></th>\n",
       "      <th>test_example_id</th>\n",
       "      <th>predicted_category</th>\n",
       "    </tr>\n",
       "  </thead>\n",
       "  <tbody>\n",
       "    <tr>\n",
       "      <th>318</th>\n",
       "      <td>318</td>\n",
       "      <td>m</td>\n",
       "    </tr>\n",
       "    <tr>\n",
       "      <th>319</th>\n",
       "      <td>319</td>\n",
       "      <td>m</td>\n",
       "    </tr>\n",
       "    <tr>\n",
       "      <th>320</th>\n",
       "      <td>320</td>\n",
       "      <td>m</td>\n",
       "    </tr>\n",
       "    <tr>\n",
       "      <th>321</th>\n",
       "      <td>321</td>\n",
       "      <td>m</td>\n",
       "    </tr>\n",
       "    <tr>\n",
       "      <th>322</th>\n",
       "      <td>322</td>\n",
       "      <td>m</td>\n",
       "    </tr>\n",
       "  </tbody>\n",
       "</table>\n",
       "</div>"
      ],
      "text/plain": [
       "     test_example_id predicted_category\n",
       "318              318                  m\n",
       "319              319                  m\n",
       "320              320                  m\n",
       "321              321                  m\n",
       "322              322                  m"
      ]
     },
     "execution_count": 99,
     "metadata": {},
     "output_type": "execute_result"
    }
   ],
   "source": [
    "df_predicted.tail(5)"
   ]
  },
  {
   "cell_type": "markdown",
   "metadata": {},
   "source": [
    "### Save output to csv (optional)\n",
    "After you're done save your output to the 'classification_results.csv' csv file.<br/>\n",
    "We assume that the dataframe with your results contain the following columns:\n",
    "* column 1 (left column): 'test_example_id'  - the same id associated to each of the test stories to be predicted.\n",
    "* column 2 (right column): 'predicted_category' - the predicted gender value for each of the associated story. \n",
    "\n",
    "Assuming your predicted values are in the `df_predicted` dataframe, you should save you're results as following:"
   ]
  },
  {
   "cell_type": "code",
   "execution_count": 103,
   "metadata": {},
   "outputs": [],
   "source": [
    "df_predicted.to_csv('classification_results.csv',index=False)"
   ]
  },
  {
   "cell_type": "code",
   "execution_count": null,
   "metadata": {},
   "outputs": [],
   "source": []
  }
 ],
 "metadata": {
  "celltoolbar": "Create Assignment",
  "kernelspec": {
   "display_name": "Python 3 (ipykernel)",
   "language": "python",
   "name": "python3"
  },
  "language_info": {
   "codemirror_mode": {
    "name": "ipython",
    "version": 3
   },
   "file_extension": ".py",
   "mimetype": "text/x-python",
   "name": "python",
   "nbconvert_exporter": "python",
   "pygments_lexer": "ipython3",
   "version": "3.9.13"
  }
 },
 "nbformat": 4,
 "nbformat_minor": 4
}
